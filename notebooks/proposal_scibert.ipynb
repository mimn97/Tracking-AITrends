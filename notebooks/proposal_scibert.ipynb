{
  "cells": [
    {
      "cell_type": "code",
      "execution_count": 4,
      "metadata": {
        "id": "tTj78oq9Vrb_"
      },
      "outputs": [],
      "source": [
        "import pandas as pd\n",
        "import numpy as np\n",
        "from tqdm import tqdm\n",
        "import matplotlib.pyplot as plt\n",
        "from collections import defaultdict\n",
        "import docx2txt\n",
        "import glob\n",
        "import re \n",
        "\n",
        "import spacy\n",
        "en = spacy.load('en_core_web_sm')\n",
        "stopwords = en.Defaults.stop_words\n",
        "\n",
        "import nltk\n",
        "nltk.download('punkt')\n",
        "from nltk import tokenize\n",
        "\n",
        "from datasets import Dataset, load_metric\n",
        "\n",
        "import torch\n",
        "from transformers import AutoModelForTokenClassification\n",
        "from transformers import AutoTokenizer, AutoConfig\n",
        "from transformers import BertForTokenClassification, DistilBertForTokenClassification, RobertaForTokenClassification\n",
        "from transformers import Trainer, TrainingArguments\n",
        "from transformers import DataCollatorForTokenClassification\n",
        "from transformers import pipeline"
      ]
    },
    {
      "cell_type": "code",
      "execution_count": 5,
      "metadata": {
        "colab": {
          "base_uri": "https://localhost:8080/"
        },
        "id": "17dvhwRtVrcD",
        "outputId": "2defcde5-bd23-457b-aa21-236c5fc664ae"
      },
      "outputs": [
        {
          "name": "stdout",
          "output_type": "stream",
          "text": [
            "True\n"
          ]
        }
      ],
      "source": [
        "print(torch.cuda.is_available())"
      ]
    },
    {
      "attachments": {},
      "cell_type": "markdown",
      "metadata": {},
      "source": [
        "# Data Preprocessing"
      ]
    },
    {
      "cell_type": "code",
      "execution_count": 7,
      "metadata": {
        "colab": {
          "base_uri": "https://localhost:8080/",
          "height": 424
        },
        "id": "Iyp0wVBeV9mw",
        "outputId": "911249d5-791e-4246-de79-61c3889b4bf5"
      },
      "outputs": [
        {
          "data": {
            "text/html": [
              "\n",
              "  <div id=\"df-256f70bb-8f10-4688-9b13-7b3f618979d1\">\n",
              "    <div class=\"colab-df-container\">\n",
              "      <div>\n",
              "<style scoped>\n",
              "    .dataframe tbody tr th:only-of-type {\n",
              "        vertical-align: middle;\n",
              "    }\n",
              "\n",
              "    .dataframe tbody tr th {\n",
              "        vertical-align: top;\n",
              "    }\n",
              "\n",
              "    .dataframe thead th {\n",
              "        text-align: right;\n",
              "    }\n",
              "</style>\n",
              "<table border=\"1\" class=\"dataframe\">\n",
              "  <thead>\n",
              "    <tr style=\"text-align: right;\">\n",
              "      <th></th>\n",
              "      <th>word</th>\n",
              "      <th>entity</th>\n",
              "    </tr>\n",
              "  </thead>\n",
              "  <tbody>\n",
              "    <tr>\n",
              "      <th>0</th>\n",
              "      <td>[popular, approaches, of, opinion-based, recom...</td>\n",
              "      <td>[O, O, O, B-product, I-product, I-product, O, ...</td>\n",
              "    </tr>\n",
              "    <tr>\n",
              "      <th>1</th>\n",
              "      <td>[advocates, of, procedural, representations, w...</td>\n",
              "      <td>[O, O, O, O, O, O, O, O, B-university, O, O, O...</td>\n",
              "    </tr>\n",
              "    <tr>\n",
              "      <th>2</th>\n",
              "      <td>[the, standard, interface, and, calculator, in...</td>\n",
              "      <td>[O, O, O, O, O, O, O, O, O, B-programlang, O]</td>\n",
              "    </tr>\n",
              "    <tr>\n",
              "      <th>3</th>\n",
              "      <td>[octave, helps, in, solving, linear, and, nonl...</td>\n",
              "      <td>[B-product, O, O, O, O, O, O, O, O, O, O, O, O...</td>\n",
              "    </tr>\n",
              "    <tr>\n",
              "      <th>4</th>\n",
              "      <td>[variants, of, the, back-propagation, algorith...</td>\n",
              "      <td>[O, O, O, B-algorithm, I-algorithm, O, O, O, B...</td>\n",
              "    </tr>\n",
              "    <tr>\n",
              "      <th>...</th>\n",
              "      <td>...</td>\n",
              "      <td>...</td>\n",
              "    </tr>\n",
              "    <tr>\n",
              "      <th>88</th>\n",
              "      <td>[poggio, is, an, honorary, member, of, the, ne...</td>\n",
              "      <td>[B-researcher, O, O, O, O, O, O, B-organisatio...</td>\n",
              "    </tr>\n",
              "    <tr>\n",
              "      <th>89</th>\n",
              "      <td>[during, the, 1990s, ,, encouraged, by, succes...</td>\n",
              "      <td>[O, O, O, O, O, O, O, O, B-task, I-task, O, B-...</td>\n",
              "    </tr>\n",
              "    <tr>\n",
              "      <th>90</th>\n",
              "      <td>[in, 1999, ,, felix, gers, and, his, advisor, ...</td>\n",
              "      <td>[O, O, O, B-researcher, I-researcher, O, O, O,...</td>\n",
              "    </tr>\n",
              "    <tr>\n",
              "      <th>91</th>\n",
              "      <td>[59, ,, pp., 2547-2553, ,, oct., 2011, in, one...</td>\n",
              "      <td>[O, O, O, O, O, O, O, O, B-misc, I-misc, I-mis...</td>\n",
              "    </tr>\n",
              "    <tr>\n",
              "      <th>92</th>\n",
              "      <td>[boris, katz, ,, (, born, october, 5, ,, 1947,...</td>\n",
              "      <td>[B-researcher, I-researcher, O, O, O, O, O, O,...</td>\n",
              "    </tr>\n",
              "  </tbody>\n",
              "</table>\n",
              "<p>93 rows × 2 columns</p>\n",
              "</div>\n",
              "      <button class=\"colab-df-convert\" onclick=\"convertToInteractive('df-256f70bb-8f10-4688-9b13-7b3f618979d1')\"\n",
              "              title=\"Convert this dataframe to an interactive table.\"\n",
              "              style=\"display:none;\">\n",
              "        \n",
              "  <svg xmlns=\"http://www.w3.org/2000/svg\" height=\"24px\"viewBox=\"0 0 24 24\"\n",
              "       width=\"24px\">\n",
              "    <path d=\"M0 0h24v24H0V0z\" fill=\"none\"/>\n",
              "    <path d=\"M18.56 5.44l.94 2.06.94-2.06 2.06-.94-2.06-.94-.94-2.06-.94 2.06-2.06.94zm-11 1L8.5 8.5l.94-2.06 2.06-.94-2.06-.94L8.5 2.5l-.94 2.06-2.06.94zm10 10l.94 2.06.94-2.06 2.06-.94-2.06-.94-.94-2.06-.94 2.06-2.06.94z\"/><path d=\"M17.41 7.96l-1.37-1.37c-.4-.4-.92-.59-1.43-.59-.52 0-1.04.2-1.43.59L10.3 9.45l-7.72 7.72c-.78.78-.78 2.05 0 2.83L4 21.41c.39.39.9.59 1.41.59.51 0 1.02-.2 1.41-.59l7.78-7.78 2.81-2.81c.8-.78.8-2.07 0-2.86zM5.41 20L4 18.59l7.72-7.72 1.47 1.35L5.41 20z\"/>\n",
              "  </svg>\n",
              "      </button>\n",
              "      \n",
              "  <style>\n",
              "    .colab-df-container {\n",
              "      display:flex;\n",
              "      flex-wrap:wrap;\n",
              "      gap: 12px;\n",
              "    }\n",
              "\n",
              "    .colab-df-convert {\n",
              "      background-color: #E8F0FE;\n",
              "      border: none;\n",
              "      border-radius: 50%;\n",
              "      cursor: pointer;\n",
              "      display: none;\n",
              "      fill: #1967D2;\n",
              "      height: 32px;\n",
              "      padding: 0 0 0 0;\n",
              "      width: 32px;\n",
              "    }\n",
              "\n",
              "    .colab-df-convert:hover {\n",
              "      background-color: #E2EBFA;\n",
              "      box-shadow: 0px 1px 2px rgba(60, 64, 67, 0.3), 0px 1px 3px 1px rgba(60, 64, 67, 0.15);\n",
              "      fill: #174EA6;\n",
              "    }\n",
              "\n",
              "    [theme=dark] .colab-df-convert {\n",
              "      background-color: #3B4455;\n",
              "      fill: #D2E3FC;\n",
              "    }\n",
              "\n",
              "    [theme=dark] .colab-df-convert:hover {\n",
              "      background-color: #434B5C;\n",
              "      box-shadow: 0px 1px 3px 1px rgba(0, 0, 0, 0.15);\n",
              "      filter: drop-shadow(0px 1px 2px rgba(0, 0, 0, 0.3));\n",
              "      fill: #FFFFFF;\n",
              "    }\n",
              "  </style>\n",
              "\n",
              "      <script>\n",
              "        const buttonEl =\n",
              "          document.querySelector('#df-256f70bb-8f10-4688-9b13-7b3f618979d1 button.colab-df-convert');\n",
              "        buttonEl.style.display =\n",
              "          google.colab.kernel.accessAllowed ? 'block' : 'none';\n",
              "\n",
              "        async function convertToInteractive(key) {\n",
              "          const element = document.querySelector('#df-256f70bb-8f10-4688-9b13-7b3f618979d1');\n",
              "          const dataTable =\n",
              "            await google.colab.kernel.invokeFunction('convertToInteractive',\n",
              "                                                     [key], {});\n",
              "          if (!dataTable) return;\n",
              "\n",
              "          const docLinkHtml = 'Like what you see? Visit the ' +\n",
              "            '<a target=\"_blank\" href=https://colab.research.google.com/notebooks/data_table.ipynb>data table notebook</a>'\n",
              "            + ' to learn more about interactive tables.';\n",
              "          element.innerHTML = '';\n",
              "          dataTable['output_type'] = 'display_data';\n",
              "          await google.colab.output.renderOutput(dataTable, element);\n",
              "          const docLink = document.createElement('div');\n",
              "          docLink.innerHTML = docLinkHtml;\n",
              "          element.appendChild(docLink);\n",
              "        }\n",
              "      </script>\n",
              "    </div>\n",
              "  </div>\n",
              "  "
            ],
            "text/plain": [
              "                                                 word  \\\n",
              "0   [popular, approaches, of, opinion-based, recom...   \n",
              "1   [advocates, of, procedural, representations, w...   \n",
              "2   [the, standard, interface, and, calculator, in...   \n",
              "3   [octave, helps, in, solving, linear, and, nonl...   \n",
              "4   [variants, of, the, back-propagation, algorith...   \n",
              "..                                                ...   \n",
              "88  [poggio, is, an, honorary, member, of, the, ne...   \n",
              "89  [during, the, 1990s, ,, encouraged, by, succes...   \n",
              "90  [in, 1999, ,, felix, gers, and, his, advisor, ...   \n",
              "91  [59, ,, pp., 2547-2553, ,, oct., 2011, in, one...   \n",
              "92  [boris, katz, ,, (, born, october, 5, ,, 1947,...   \n",
              "\n",
              "                                               entity  \n",
              "0   [O, O, O, B-product, I-product, I-product, O, ...  \n",
              "1   [O, O, O, O, O, O, O, O, B-university, O, O, O...  \n",
              "2       [O, O, O, O, O, O, O, O, O, B-programlang, O]  \n",
              "3   [B-product, O, O, O, O, O, O, O, O, O, O, O, O...  \n",
              "4   [O, O, O, B-algorithm, I-algorithm, O, O, O, B...  \n",
              "..                                                ...  \n",
              "88  [B-researcher, O, O, O, O, O, O, B-organisatio...  \n",
              "89  [O, O, O, O, O, O, O, O, B-task, I-task, O, B-...  \n",
              "90  [O, O, O, B-researcher, I-researcher, O, O, O,...  \n",
              "91  [O, O, O, O, O, O, O, O, B-misc, I-misc, I-mis...  \n",
              "92  [B-researcher, I-researcher, O, O, O, O, O, O,...  \n",
              "\n",
              "[93 rows x 2 columns]"
            ]
          },
          "execution_count": 7,
          "metadata": {},
          "output_type": "execute_result"
        }
      ],
      "source": [
        "ai_train = pd.read_csv('..\\data\\CrossNER\\ner_data\\ai\\train.txt', delimiter='\\t', header=None)\n",
        "ai_train = ai_train.rename(columns={0:'word', 1:'entity'})\n",
        "\n",
        "entire_word_lst = []\n",
        "entire_entity_lst = []\n",
        "\n",
        "word_lst = []\n",
        "entity_lst = []\n",
        "\n",
        "for i in range(len(ai_train)):\n",
        "  if ai_train['word'][i] != '.':\n",
        "    word_lst.append(ai_train['word'][i].lower())\n",
        "    entity_lst.append(ai_train['entity'][i])\n",
        "  else:\n",
        "    word_lst.append(ai_train['word'][i].lower())\n",
        "    entity_lst.append(ai_train['entity'][i])\n",
        "\n",
        "    entire_word_lst.append(word_lst)\n",
        "    entire_entity_lst.append(entity_lst)\n",
        "    word_lst = []\n",
        "    entity_lst = []\n",
        "\n",
        "\n",
        "ai_train_cleaned = pd.DataFrame({'word':entire_word_lst, 'entity': entire_entity_lst})\n",
        "ai_train_cleaned"
      ]
    },
    {
      "cell_type": "code",
      "execution_count": 8,
      "metadata": {
        "id": "_LL7pBgFcyw6"
      },
      "outputs": [],
      "source": [
        "ai_dev = pd.read_csv('..\\data\\CrossNER\\ner_data\\ai\\dev.txt', delimiter='\\t', header=None)\n",
        "ai_dev = ai_dev.rename(columns={0:'word', 1:'entity'})\n",
        "\n",
        "entire_word_lst = []\n",
        "entire_entity_lst = []\n",
        "\n",
        "word_lst = []\n",
        "entity_lst = []\n",
        "\n",
        "for i in range(len(ai_dev)):\n",
        "  if ai_dev['word'][i] != '.':\n",
        "    word_lst.append(ai_dev['word'][i].lower())\n",
        "    entity_lst.append(ai_dev['entity'][i])\n",
        "  else:\n",
        "    word_lst.append(ai_dev['word'][i].lower())\n",
        "    entity_lst.append(ai_dev['entity'][i])\n",
        "\n",
        "    entire_word_lst.append(word_lst)\n",
        "    entire_entity_lst.append(entity_lst)\n",
        "    word_lst = []\n",
        "    entity_lst = []\n",
        "\n",
        "ai_dev_cleaned = pd.DataFrame({'word':entire_word_lst, 'entity': entire_entity_lst})"
      ]
    },
    {
      "cell_type": "code",
      "execution_count": 9,
      "metadata": {
        "colab": {
          "base_uri": "https://localhost:8080/",
          "height": 206
        },
        "id": "OKjsjDG0XNFT",
        "outputId": "6fd3001a-b526-4329-b0c2-cb2e6d0b5dc4"
      },
      "outputs": [
        {
          "data": {
            "text/html": [
              "\n",
              "  <div id=\"df-515572cb-23a2-4ecb-bf58-6854f627e6a0\">\n",
              "    <div class=\"colab-df-container\">\n",
              "      <div>\n",
              "<style scoped>\n",
              "    .dataframe tbody tr th:only-of-type {\n",
              "        vertical-align: middle;\n",
              "    }\n",
              "\n",
              "    .dataframe tbody tr th {\n",
              "        vertical-align: top;\n",
              "    }\n",
              "\n",
              "    .dataframe thead th {\n",
              "        text-align: right;\n",
              "    }\n",
              "</style>\n",
              "<table border=\"1\" class=\"dataframe\">\n",
              "  <thead>\n",
              "    <tr style=\"text-align: right;\">\n",
              "      <th></th>\n",
              "      <th>word</th>\n",
              "      <th>entity</th>\n",
              "    </tr>\n",
              "  </thead>\n",
              "  <tbody>\n",
              "    <tr>\n",
              "      <th>0</th>\n",
              "      <td>[here, ,, accuracy, is, measured, by, error, r...</td>\n",
              "      <td>[O, O, B-metrics, O, O, O, B-metrics, I-metric...</td>\n",
              "    </tr>\n",
              "    <tr>\n",
              "      <th>1</th>\n",
              "      <td>[brion, james, portrays, leon, kowalski, ,, a,...</td>\n",
              "      <td>[B-person, I-person, O, B-person, I-person, O,...</td>\n",
              "    </tr>\n",
              "    <tr>\n",
              "      <th>2</th>\n",
              "      <td>[the, first, picture, to, be, scanned, ,, stor...</td>\n",
              "      <td>[O, O, O, O, O, O, O, O, O, O, O, O, O, O, O, ...</td>\n",
              "    </tr>\n",
              "    <tr>\n",
              "      <th>3</th>\n",
              "      <td>[segmenting, the, text, into, topics, or, disc...</td>\n",
              "      <td>[B-task, I-task, I-task, I-task, I-task, O, B-...</td>\n",
              "    </tr>\n",
              "    <tr>\n",
              "      <th>4</th>\n",
              "      <td>[at, indiana, university, in, 1999, he, organi...</td>\n",
              "      <td>[O, B-university, I-university, O, O, O, O, O,...</td>\n",
              "    </tr>\n",
              "  </tbody>\n",
              "</table>\n",
              "</div>\n",
              "      <button class=\"colab-df-convert\" onclick=\"convertToInteractive('df-515572cb-23a2-4ecb-bf58-6854f627e6a0')\"\n",
              "              title=\"Convert this dataframe to an interactive table.\"\n",
              "              style=\"display:none;\">\n",
              "        \n",
              "  <svg xmlns=\"http://www.w3.org/2000/svg\" height=\"24px\"viewBox=\"0 0 24 24\"\n",
              "       width=\"24px\">\n",
              "    <path d=\"M0 0h24v24H0V0z\" fill=\"none\"/>\n",
              "    <path d=\"M18.56 5.44l.94 2.06.94-2.06 2.06-.94-2.06-.94-.94-2.06-.94 2.06-2.06.94zm-11 1L8.5 8.5l.94-2.06 2.06-.94-2.06-.94L8.5 2.5l-.94 2.06-2.06.94zm10 10l.94 2.06.94-2.06 2.06-.94-2.06-.94-.94-2.06-.94 2.06-2.06.94z\"/><path d=\"M17.41 7.96l-1.37-1.37c-.4-.4-.92-.59-1.43-.59-.52 0-1.04.2-1.43.59L10.3 9.45l-7.72 7.72c-.78.78-.78 2.05 0 2.83L4 21.41c.39.39.9.59 1.41.59.51 0 1.02-.2 1.41-.59l7.78-7.78 2.81-2.81c.8-.78.8-2.07 0-2.86zM5.41 20L4 18.59l7.72-7.72 1.47 1.35L5.41 20z\"/>\n",
              "  </svg>\n",
              "      </button>\n",
              "      \n",
              "  <style>\n",
              "    .colab-df-container {\n",
              "      display:flex;\n",
              "      flex-wrap:wrap;\n",
              "      gap: 12px;\n",
              "    }\n",
              "\n",
              "    .colab-df-convert {\n",
              "      background-color: #E8F0FE;\n",
              "      border: none;\n",
              "      border-radius: 50%;\n",
              "      cursor: pointer;\n",
              "      display: none;\n",
              "      fill: #1967D2;\n",
              "      height: 32px;\n",
              "      padding: 0 0 0 0;\n",
              "      width: 32px;\n",
              "    }\n",
              "\n",
              "    .colab-df-convert:hover {\n",
              "      background-color: #E2EBFA;\n",
              "      box-shadow: 0px 1px 2px rgba(60, 64, 67, 0.3), 0px 1px 3px 1px rgba(60, 64, 67, 0.15);\n",
              "      fill: #174EA6;\n",
              "    }\n",
              "\n",
              "    [theme=dark] .colab-df-convert {\n",
              "      background-color: #3B4455;\n",
              "      fill: #D2E3FC;\n",
              "    }\n",
              "\n",
              "    [theme=dark] .colab-df-convert:hover {\n",
              "      background-color: #434B5C;\n",
              "      box-shadow: 0px 1px 3px 1px rgba(0, 0, 0, 0.15);\n",
              "      filter: drop-shadow(0px 1px 2px rgba(0, 0, 0, 0.3));\n",
              "      fill: #FFFFFF;\n",
              "    }\n",
              "  </style>\n",
              "\n",
              "      <script>\n",
              "        const buttonEl =\n",
              "          document.querySelector('#df-515572cb-23a2-4ecb-bf58-6854f627e6a0 button.colab-df-convert');\n",
              "        buttonEl.style.display =\n",
              "          google.colab.kernel.accessAllowed ? 'block' : 'none';\n",
              "\n",
              "        async function convertToInteractive(key) {\n",
              "          const element = document.querySelector('#df-515572cb-23a2-4ecb-bf58-6854f627e6a0');\n",
              "          const dataTable =\n",
              "            await google.colab.kernel.invokeFunction('convertToInteractive',\n",
              "                                                     [key], {});\n",
              "          if (!dataTable) return;\n",
              "\n",
              "          const docLinkHtml = 'Like what you see? Visit the ' +\n",
              "            '<a target=\"_blank\" href=https://colab.research.google.com/notebooks/data_table.ipynb>data table notebook</a>'\n",
              "            + ' to learn more about interactive tables.';\n",
              "          element.innerHTML = '';\n",
              "          dataTable['output_type'] = 'display_data';\n",
              "          await google.colab.output.renderOutput(dataTable, element);\n",
              "          const docLink = document.createElement('div');\n",
              "          docLink.innerHTML = docLinkHtml;\n",
              "          element.appendChild(docLink);\n",
              "        }\n",
              "      </script>\n",
              "    </div>\n",
              "  </div>\n",
              "  "
            ],
            "text/plain": [
              "                                                word  \\\n",
              "0  [here, ,, accuracy, is, measured, by, error, r...   \n",
              "1  [brion, james, portrays, leon, kowalski, ,, a,...   \n",
              "2  [the, first, picture, to, be, scanned, ,, stor...   \n",
              "3  [segmenting, the, text, into, topics, or, disc...   \n",
              "4  [at, indiana, university, in, 1999, he, organi...   \n",
              "\n",
              "                                              entity  \n",
              "0  [O, O, B-metrics, O, O, O, B-metrics, I-metric...  \n",
              "1  [B-person, I-person, O, B-person, I-person, O,...  \n",
              "2  [O, O, O, O, O, O, O, O, O, O, O, O, O, O, O, ...  \n",
              "3  [B-task, I-task, I-task, I-task, I-task, O, B-...  \n",
              "4  [O, B-university, I-university, O, O, O, O, O,...  "
            ]
          },
          "execution_count": 9,
          "metadata": {},
          "output_type": "execute_result"
        }
      ],
      "source": [
        "ai_train_cleaned.head()\n",
        "ai_dev_cleaned.head()"
      ]
    },
    {
      "cell_type": "code",
      "execution_count": 10,
      "metadata": {
        "id": "hj2IKiDmVrcE"
      },
      "outputs": [],
      "source": [
        "ai_labels = [\"O\", \"B-field\", \"I-field\", \"B-task\", \"I-task\", \"B-product\", \"I-product\", \"B-algorithm\", \n",
        "                \"I-algorithm\", \"B-researcher\", \"I-researcher\", \"B-metrics\", \"I-metrics\", \n",
        "                \"B-programlang\", \"I-programlang\", \"B-conference\", \"I-conference\", \n",
        "                \"B-university\", \"I-university\", \"B-country\", \"I-country\", \"B-person\", \"I-person\", \n",
        "                \"B-organisation\", \"I-organisation\", \"B-location\", \"I-location\", \"B-misc\", \"I-misc\"]\n",
        "\n",
        "ai_label_encoding = {\"O\":0, \"B-field\":1, \"I-field\":2, \"B-task\":3, \"I-task\":4, \"B-product\":5, \"I-product\":6, \n",
        "                    \"B-algorithm\":7, \"I-algorithm\":8, \"B-researcher\":9, \"I-researcher\":10, \"B-metrics\":11, \"I-metrics\":12, \n",
        "                    \"B-programlang\":13, \"I-programlang\":14, \"B-conference\":15, \"I-conference\":16, \n",
        "                    \"B-university\":17, \"I-university\":18, \"B-country\":19, \"I-country\":20, \"B-person\":21, \"I-person\":22, \n",
        "                    \"B-organisation\":23, \"I-organisation\":24, \"B-location\":25, \"I-location\":26, \"B-misc\":27, \"I-misc\":28}\n",
        "\n",
        "ai_id2label = {v: k for k, v in ai_label_encoding.items()}\n",
        "\n",
        "train_hf = Dataset.from_pandas(ai_train_cleaned)\n",
        "dev_hf = Dataset.from_pandas(ai_dev_cleaned)"
      ]
    },
    {
      "cell_type": "code",
      "execution_count": null,
      "metadata": {
        "colab": {
          "base_uri": "https://localhost:8080/"
        },
        "id": "zx-Fc7CfK596",
        "outputId": "0eb09ae2-8eb4-4cf1-dcb0-b733445de4ac"
      },
      "outputs": [],
      "source": [
        "print(train_hf['word'][:5])\n",
        "print(train_hf['entity'][:5])"
      ]
    },
    {
      "cell_type": "code",
      "execution_count": 12,
      "metadata": {
        "id": "OEd6OHisVrcF"
      },
      "outputs": [],
      "source": [
        "task = 'ner'\n",
        "scibert_model_checkpoint = 'allenai/scibert_scivocab_uncased' # SciBert pre-trained on scientific papers\n",
        "\n",
        "TRAIN_BATCH_SIZE = 16\n",
        "EVAL_BATCH_SIZE = 16\n",
        "\n",
        "# SciBERT\n",
        "tokenizer = AutoTokenizer.from_pretrained(scibert_model_checkpoint)"
      ]
    },
    {
      "cell_type": "code",
      "execution_count": 13,
      "metadata": {
        "id": "QoKuImF8VrcG"
      },
      "outputs": [],
      "source": [
        "def tokenize_and_labels(examples):\n",
        "\n",
        "    label_all_tokens = True\n",
        "    tokenized_inputs = tokenizer(examples[\"word\"], truncation=True, is_split_into_words=True)\n",
        "\n",
        "    labels = []\n",
        "    for i, label in enumerate(examples[\"entity\"]):\n",
        "        word_ids = tokenized_inputs.word_ids(batch_index=i)\n",
        "        previous_word_idx = None\n",
        "        label_ids = []\n",
        "        for word_idx in word_ids:\n",
        "            # Special tokens have a word id that is None. We set the label to -100 so they are automatically\n",
        "            # ignored in the loss function.\n",
        "            if word_idx is None:\n",
        "                label_ids.append(-100)\n",
        "            # elif label[word_idx] == '0':\n",
        "            #     label_ids.append(0)\n",
        "            # We set the label for the first token of each word.\n",
        "            elif word_idx != previous_word_idx:\n",
        "                label_ids.append(ai_label_encoding[label[word_idx]])\n",
        "            # For the other tokens in a word, we set the label to either the current label or -100, depending on\n",
        "            # the label_all_tokens flag.\n",
        "            else:\n",
        "                label_ids.append(ai_label_encoding[label[word_idx]] if label_all_tokens else -100)\n",
        "\n",
        "            previous_word_idx = word_idx\n",
        "\n",
        "        labels.append(label_ids)\n",
        "\n",
        "    tokenized_inputs[\"labels\"] = labels\n",
        "    return tokenized_inputs"
      ]
    },
    {
      "cell_type": "code",
      "execution_count": null,
      "metadata": {
        "colab": {
          "base_uri": "https://localhost:8080/",
          "height": 98,
          "referenced_widgets": [
            "f9b6627e649e4888bbce90c06aa11c49",
            "c16a1fd05b874cc18ee4786cc6c62d60",
            "72e1a7b6d40d46d2b5e9b3baf1714c57",
            "682985265a3c4312860b617aa38460a6",
            "9f04b88f1f7546cd81df1ad2357c41b3",
            "89bda4baacab4373a3848f149af6bb92",
            "ac027dfb19ff494a911495aee5e46279",
            "93489c154c0a4acba9ea0d456a401282",
            "c0d8b2d751db489bb307203e827763a3",
            "6d7443ce4442452b9cb309a551350186",
            "2725dd7b5f514cc5b27e44de902341c0",
            "8361d8e1607b4eeab16719b82c3802c3",
            "62994df1ec224cf4829735ae989f27b2",
            "2c59de74ab124f5a985bd660868a033a",
            "2958571ab0da4f03bd38c4eb5d96ef8b",
            "f1d6d4f5a04d42de83155b349cf71d08",
            "e900aaaa413448809d39357eed6fb3ea",
            "563e80fe73044500a6473b4724e0bb34",
            "f4f7a3ce54604bf1bee82acf1917fb3b",
            "d76c2693d3044a55a5e192fd908b2309",
            "76c19937e32c4e079885bf6bd32876d1",
            "f1e51f82e7fe47e787f12210fe3ee383"
          ]
        },
        "id": "AhKZ2rovVrcH",
        "outputId": "c13d2a40-e9cc-40ef-d80d-673b40ac60a8"
      },
      "outputs": [],
      "source": [
        "train_tokenized_datasets = train_hf.map(tokenize_and_labels, batched=True)\n",
        "dev_tokenized_datasets = dev_hf.map(tokenize_and_labels, batched=True)"
      ]
    },
    {
      "cell_type": "code",
      "execution_count": 15,
      "metadata": {
        "colab": {
          "base_uri": "https://localhost:8080/"
        },
        "id": "27Hwkm_aKkTo",
        "outputId": "4fc7a738-b4b8-48ce-d134-10d625a0b9b8"
      },
      "outputs": [
        {
          "data": {
            "text/plain": [
              "{'input_ids': [[102, 6237, 2688, 131, 9092, 579, 791, 28309, 429, 10766, 1711, 2190, 1471, 3267, 7566, 422, 776, 6606, 422, 18996, 669, 145, 1461, 469, 17755, 18996, 669, 546, 137, 4631, 1904, 412, 205, 316, 205, 19649, 422, 151, 205, 5527, 422, 316, 205, 261, 205, 4552, 422, 118, 205, 151, 205, 28369, 30123, 422, 316, 205, 12653, 422, 316, 205, 115, 205, 20736, 422, 182, 205, 115, 205, 18173, 422, 128, 205, 9524, 422, 145, 497, 30141, 546, 422, 422, 2337, 145, 305, 546, 862, 139, 21842, 5020, 205, 103], [102, 29158, 131, 16336, 6859, 267, 3680, 11853, 235, 1805, 422, 604, 111, 11201, 131, 2206, 8859, 678, 10746, 137, 262, 712, 387, 1203, 30108, 205, 103]], 'token_type_ids': [[0, 0, 0, 0, 0, 0, 0, 0, 0, 0, 0, 0, 0, 0, 0, 0, 0, 0, 0, 0, 0, 0, 0, 0, 0, 0, 0, 0, 0, 0, 0, 0, 0, 0, 0, 0, 0, 0, 0, 0, 0, 0, 0, 0, 0, 0, 0, 0, 0, 0, 0, 0, 0, 0, 0, 0, 0, 0, 0, 0, 0, 0, 0, 0, 0, 0, 0, 0, 0, 0, 0, 0, 0, 0, 0, 0, 0, 0, 0, 0, 0, 0, 0, 0, 0, 0, 0, 0, 0, 0], [0, 0, 0, 0, 0, 0, 0, 0, 0, 0, 0, 0, 0, 0, 0, 0, 0, 0, 0, 0, 0, 0, 0, 0, 0, 0, 0]], 'attention_mask': [[1, 1, 1, 1, 1, 1, 1, 1, 1, 1, 1, 1, 1, 1, 1, 1, 1, 1, 1, 1, 1, 1, 1, 1, 1, 1, 1, 1, 1, 1, 1, 1, 1, 1, 1, 1, 1, 1, 1, 1, 1, 1, 1, 1, 1, 1, 1, 1, 1, 1, 1, 1, 1, 1, 1, 1, 1, 1, 1, 1, 1, 1, 1, 1, 1, 1, 1, 1, 1, 1, 1, 1, 1, 1, 1, 1, 1, 1, 1, 1, 1, 1, 1, 1, 1, 1, 1, 1, 1, 1], [1, 1, 1, 1, 1, 1, 1, 1, 1, 1, 1, 1, 1, 1, 1, 1, 1, 1, 1, 1, 1, 1, 1, 1, 1, 1, 1]], 'labels': [[-100, 0, 0, 0, 5, 5, 5, 6, 6, 0, 0, 0, 0, 1, 2, 0, 3, 4, 0, 3, 4, 0, 0, 0, 3, 4, 4, 0, 0, 1, 2, 9, 9, 9, 9, 10, 0, 9, 9, 10, 0, 9, 9, 9, 9, 10, 0, 9, 9, 9, 9, 10, 10, 0, 9, 9, 10, 0, 9, 9, 9, 9, 10, 0, 9, 9, 9, 9, 10, 0, 9, 9, 10, 0, 0, 0, 0, 0, 0, 0, 0, 0, 0, 0, 0, 0, 0, 0, 0, -100], [-100, 0, 0, 0, 0, 0, 0, 0, 0, 17, 0, 0, 0, 0, 0, 9, 9, 10, 10, 0, 9, 9, 9, 10, 10, 0, -100]]}"
            ]
          },
          "execution_count": 15,
          "metadata": {},
          "output_type": "execute_result"
        }
      ],
      "source": [
        "tokenize_and_labels(train_hf[:2])"
      ]
    },
    {
      "attachments": {},
      "cell_type": "markdown",
      "metadata": {},
      "source": [
        "# Model Initialization & Training "
      ]
    },
    {
      "cell_type": "code",
      "execution_count": null,
      "metadata": {
        "colab": {
          "base_uri": "https://localhost:8080/"
        },
        "id": "Bfgfs33tVrcI",
        "outputId": "475f6171-43e8-48d3-ee8e-0eca57754205"
      },
      "outputs": [],
      "source": [
        "model = AutoModelForTokenClassification.from_pretrained(scibert_model_checkpoint, \n",
        "                                                        num_labels=len(ai_labels), id2label=ai_id2label)"
      ]
    },
    {
      "cell_type": "code",
      "execution_count": 26,
      "metadata": {
        "id": "EiSpGdmmVrcI"
      },
      "outputs": [],
      "source": [
        "scibert_model_name = scibert_model_checkpoint.split(\"/\")[-1]\n",
        "\n",
        "args = TrainingArguments(\n",
        "    f\"..\\model\\{scibert_model_name}-finetuned-{task}\",\n",
        "    evaluation_strategy = \"epoch\",\n",
        "    learning_rate=2e-4,\n",
        "    per_device_train_batch_size=TRAIN_BATCH_SIZE,\n",
        "    per_device_eval_batch_size=EVAL_BATCH_SIZE,\n",
        "    seed=42,\n",
        "    num_train_epochs=15,\n",
        "    weight_decay=0.001, \n",
        "    load_best_model_at_end=True,\n",
        "    save_strategy = 'epoch'\n",
        "    )"
      ]
    },
    {
      "cell_type": "code",
      "execution_count": 27,
      "metadata": {
        "id": "ygGTPYf6VrcJ"
      },
      "outputs": [],
      "source": [
        "data_collator = DataCollatorForTokenClassification(tokenizer)\n",
        "metric = load_metric(\"seqeval\")"
      ]
    },
    {
      "cell_type": "code",
      "execution_count": 28,
      "metadata": {
        "id": "OpThYJ_VVrcK"
      },
      "outputs": [],
      "source": [
        "def compute_metrics(p):\n",
        "    predictions, labels = p\n",
        "    predictions = np.argmax(predictions, axis=2)\n",
        "\n",
        "    # Remove ignored index (special tokens)\n",
        "    true_predictions = [\n",
        "        [ai_labels[p] for (p, l) in zip(prediction, label) if l != -100]\n",
        "        for prediction, label in zip(predictions, labels)\n",
        "    ]\n",
        "    true_labels = [\n",
        "        [ai_labels[l] for (p, l) in zip(prediction, label) if l != -100]\n",
        "        for prediction, label in zip(predictions, labels)\n",
        "    ]\n",
        "\n",
        "    results = metric.compute(predictions=true_predictions, references=true_labels)\n",
        "    return {\n",
        "        \"precision\": results[\"overall_precision\"],\n",
        "        \"recall\": results[\"overall_recall\"],\n",
        "        \"f1\": results[\"overall_f1\"],\n",
        "        \"accuracy\": results[\"overall_accuracy\"],\n",
        "    }"
      ]
    },
    {
      "cell_type": "code",
      "execution_count": 29,
      "metadata": {
        "id": "BWllOQyXVrcL"
      },
      "outputs": [],
      "source": [
        "trainer = Trainer(\n",
        "    model,\n",
        "    args,\n",
        "    train_dataset=train_tokenized_datasets,\n",
        "    eval_dataset=dev_tokenized_datasets,\n",
        "    data_collator=data_collator,\n",
        "    tokenizer=tokenizer,\n",
        "    compute_metrics=compute_metrics\n",
        ")"
      ]
    },
    {
      "attachments": {},
      "cell_type": "markdown",
      "metadata": {},
      "source": [
        "# Train & Evaluate"
      ]
    },
    {
      "cell_type": "code",
      "execution_count": null,
      "metadata": {
        "colab": {
          "base_uri": "https://localhost:8080/",
          "height": 1000
        },
        "id": "pLIECkHeVrcL",
        "outputId": "08dd3e17-3150-47cc-dc01-26a323b7c971"
      },
      "outputs": [],
      "source": [
        "trainer.train()"
      ]
    },
    {
      "cell_type": "code",
      "execution_count": 31,
      "metadata": {
        "colab": {
          "base_uri": "https://localhost:8080/",
          "height": 283
        },
        "id": "Mb8VYG6hVrcM",
        "outputId": "08c6f3db-a445-4ee5-9c2a-866d6386751a"
      },
      "outputs": [
        {
          "name": "stderr",
          "output_type": "stream",
          "text": [
            "The following columns in the evaluation set don't have a corresponding argument in `BertForTokenClassification.forward` and have been ignored: entity, word. If entity, word are not expected by `BertForTokenClassification.forward`,  you can safely ignore this message.\n",
            "***** Running Evaluation *****\n",
            "  Num examples = 320\n",
            "  Batch size = 16\n"
          ]
        },
        {
          "data": {
            "text/html": [
              "\n",
              "    <div>\n",
              "      \n",
              "      <progress value='20' max='20' style='width:300px; height:20px; vertical-align: middle;'></progress>\n",
              "      [20/20 00:01]\n",
              "    </div>\n",
              "    "
            ],
            "text/plain": [
              "<IPython.core.display.HTML object>"
            ]
          },
          "metadata": {},
          "output_type": "display_data"
        },
        {
          "data": {
            "text/plain": [
              "{'eval_loss': 0.6172993779182434,\n",
              " 'eval_precision': 0.525668222316504,\n",
              " 'eval_recall': 0.5431828145550197,\n",
              " 'eval_f1': 0.5342820181112549,\n",
              " 'eval_accuracy': 0.8403590318961373,\n",
              " 'eval_runtime': 2.3754,\n",
              " 'eval_samples_per_second': 134.713,\n",
              " 'eval_steps_per_second': 8.42,\n",
              " 'epoch': 15.0}"
            ]
          },
          "execution_count": 31,
          "metadata": {},
          "output_type": "execute_result"
        }
      ],
      "source": [
        "trainer.evaluate()"
      ]
    },
    {
      "attachments": {},
      "cell_type": "markdown",
      "metadata": {},
      "source": [
        "# Save the best model (with the lowest loss)"
      ]
    },
    {
      "attachments": {},
      "cell_type": "markdown",
      "metadata": {},
      "source": [
        "for preventing overfitting!"
      ]
    },
    {
      "cell_type": "code",
      "execution_count": null,
      "metadata": {
        "colab": {
          "base_uri": "https://localhost:8080/"
        },
        "id": "VbJSJKK4YhZq",
        "outputId": "507ee8ab-11bb-4a2f-e316-1d0b49d795f8"
      },
      "outputs": [],
      "source": [
        "trainer.save_model('..\\model\\scibert_ner_ai.model')"
      ]
    },
    {
      "attachments": {},
      "cell_type": "markdown",
      "metadata": {},
      "source": [
        "# Load the finetuned model "
      ]
    },
    {
      "cell_type": "code",
      "execution_count": null,
      "metadata": {
        "colab": {
          "base_uri": "https://localhost:8080/"
        },
        "id": "2ZxpZQa3FoHU",
        "outputId": "af530cdf-8e98-4570-8bbf-9d145d54b904"
      },
      "outputs": [],
      "source": [
        "s_model = AutoModelForTokenClassification.from_pretrained('..\\model\\scibert_ner_ai.model')"
      ]
    },
    {
      "cell_type": "code",
      "execution_count": 34,
      "metadata": {
        "colab": {
          "base_uri": "https://localhost:8080/"
        },
        "id": "AOT4Wjmc9_Cx",
        "outputId": "8ef27f25-675e-44a7-c98d-8a10117f44e1"
      },
      "outputs": [
        {
          "name": "stderr",
          "output_type": "stream",
          "text": [
            "loading file vocab.txt\n",
            "loading file tokenizer.json\n",
            "loading file added_tokens.json\n",
            "loading file special_tokens_map.json\n",
            "loading file tokenizer_config.json\n"
          ]
        }
      ],
      "source": [
        "s_tokenizer = AutoTokenizer.from_pretrained('..\\model\\scibert_ner_ai.model')"
      ]
    },
    {
      "attachments": {},
      "cell_type": "markdown",
      "metadata": {
        "id": "_SMI-5EuGBb4"
      },
      "source": [
        "# Test on proposals"
      ]
    },
    {
      "cell_type": "code",
      "execution_count": 36,
      "metadata": {
        "id": "u93CxUPGGB2I"
      },
      "outputs": [],
      "source": [
        "def parse_doc(file_path):\n",
        "\n",
        "    with open(file_path, 'rb') as f:\n",
        "        doc = docx2txt.process(f)\n",
        "\n",
        "    word_par = [word for word in doc.rstrip().split('\\n\\n') if word.lower() not in stopwords] # paragraph-level \n",
        "\n",
        "    new_text_par = \" \".join(word_par)\n",
        "    new_text_par = re.sub('\\s+', ' ', new_text_par)\n",
        "\n",
        "    new_text_sent = tokenize.sent_tokenize(new_text_par)\n",
        "\n",
        "    return new_text_sent"
      ]
    },
    {
      "cell_type": "code",
      "execution_count": 37,
      "metadata": {
        "id": "A6mwP-ZuGUP_"
      },
      "outputs": [],
      "source": [
        "parsed_p = parse_doc('..\\data\\FY21H1/Sponsor Proposals\\Azure Compute\\Azure Compute FY21H1 Project Proposal Doc.docx')"
      ]
    },
    {
      "cell_type": "code",
      "execution_count": null,
      "metadata": {
        "id": "iB5usWBt_3Mg"
      },
      "outputs": [],
      "source": [
        "parsed_p"
      ]
    },
    {
      "cell_type": "code",
      "execution_count": null,
      "metadata": {
        "colab": {
          "base_uri": "https://localhost:8080/"
        },
        "id": "e2Fd7izPG2yb",
        "outputId": "2a3a81ee-65e1-4ebf-8d8c-458129c21517"
      },
      "outputs": [],
      "source": [
        "nlp = pipeline(\"ner\", model=s_model, tokenizer=s_tokenizer, aggregation_strategy=\"simple\")\n",
        "\n",
        "word_lst = []\n",
        "for p in parsed_p:\n",
        "  result = nlp(p)\n",
        "  print(p)"
      ]
    },
    {
      "attachments": {},
      "cell_type": "markdown",
      "metadata": {},
      "source": [
        "## Future work"
      ]
    },
    {
      "attachments": {},
      "cell_type": "markdown",
      "metadata": {},
      "source": [
        "The codes above completed finetuning SciBERT on the downstream task of NER, by using the CrossNER's AI domain train/dev sets. Also, we showed the results of this model on our proposals, by presenting named entities related to AI concepts. \n",
        "\n",
        "Though we completed the model development, we need more steps to **aggregate all entities extracted from the proposals in the way that can be visualized in Power BI.** This will be the main future work post this micro-internship. "
      ]
    },
    {
      "cell_type": "markdown",
      "metadata": {},
      "source": []
    }
  ],
  "metadata": {
    "accelerator": "GPU",
    "colab": {
      "provenance": []
    },
    "gpuClass": "standard",
    "kernelspec": {
      "display_name": "Python 3",
      "language": "python",
      "name": "python3"
    },
    "language_info": {
      "name": "python",
      "version": "3.10.9"
    },
    "orig_nbformat": 4,
    "vscode": {
      "interpreter": {
        "hash": "bbe9b149b8e435a280e9e56be5b845d59cf4107a9b9b9e530e3e2d9525d477bb"
      }
    },
    "widgets": {
      "application/vnd.jupyter.widget-state+json": {
        "2725dd7b5f514cc5b27e44de902341c0": {
          "model_module": "@jupyter-widgets/controls",
          "model_module_version": "1.5.0",
          "model_name": "DescriptionStyleModel",
          "state": {
            "_model_module": "@jupyter-widgets/controls",
            "_model_module_version": "1.5.0",
            "_model_name": "DescriptionStyleModel",
            "_view_count": null,
            "_view_module": "@jupyter-widgets/base",
            "_view_module_version": "1.2.0",
            "_view_name": "StyleView",
            "description_width": ""
          }
        },
        "2958571ab0da4f03bd38c4eb5d96ef8b": {
          "model_module": "@jupyter-widgets/controls",
          "model_module_version": "1.5.0",
          "model_name": "HTMLModel",
          "state": {
            "_dom_classes": [],
            "_model_module": "@jupyter-widgets/controls",
            "_model_module_version": "1.5.0",
            "_model_name": "HTMLModel",
            "_view_count": null,
            "_view_module": "@jupyter-widgets/controls",
            "_view_module_version": "1.5.0",
            "_view_name": "HTMLView",
            "description": "",
            "description_tooltip": null,
            "layout": "IPY_MODEL_76c19937e32c4e079885bf6bd32876d1",
            "placeholder": "​",
            "style": "IPY_MODEL_f1e51f82e7fe47e787f12210fe3ee383",
            "value": " 1/1 [00:00&lt;00:00,  4.63ba/s]"
          }
        },
        "2c59de74ab124f5a985bd660868a033a": {
          "model_module": "@jupyter-widgets/controls",
          "model_module_version": "1.5.0",
          "model_name": "FloatProgressModel",
          "state": {
            "_dom_classes": [],
            "_model_module": "@jupyter-widgets/controls",
            "_model_module_version": "1.5.0",
            "_model_name": "FloatProgressModel",
            "_view_count": null,
            "_view_module": "@jupyter-widgets/controls",
            "_view_module_version": "1.5.0",
            "_view_name": "ProgressView",
            "bar_style": "success",
            "description": "",
            "description_tooltip": null,
            "layout": "IPY_MODEL_f4f7a3ce54604bf1bee82acf1917fb3b",
            "max": 1,
            "min": 0,
            "orientation": "horizontal",
            "style": "IPY_MODEL_d76c2693d3044a55a5e192fd908b2309",
            "value": 1
          }
        },
        "563e80fe73044500a6473b4724e0bb34": {
          "model_module": "@jupyter-widgets/controls",
          "model_module_version": "1.5.0",
          "model_name": "DescriptionStyleModel",
          "state": {
            "_model_module": "@jupyter-widgets/controls",
            "_model_module_version": "1.5.0",
            "_model_name": "DescriptionStyleModel",
            "_view_count": null,
            "_view_module": "@jupyter-widgets/base",
            "_view_module_version": "1.2.0",
            "_view_name": "StyleView",
            "description_width": ""
          }
        },
        "62994df1ec224cf4829735ae989f27b2": {
          "model_module": "@jupyter-widgets/controls",
          "model_module_version": "1.5.0",
          "model_name": "HTMLModel",
          "state": {
            "_dom_classes": [],
            "_model_module": "@jupyter-widgets/controls",
            "_model_module_version": "1.5.0",
            "_model_name": "HTMLModel",
            "_view_count": null,
            "_view_module": "@jupyter-widgets/controls",
            "_view_module_version": "1.5.0",
            "_view_name": "HTMLView",
            "description": "",
            "description_tooltip": null,
            "layout": "IPY_MODEL_e900aaaa413448809d39357eed6fb3ea",
            "placeholder": "​",
            "style": "IPY_MODEL_563e80fe73044500a6473b4724e0bb34",
            "value": "100%"
          }
        },
        "682985265a3c4312860b617aa38460a6": {
          "model_module": "@jupyter-widgets/controls",
          "model_module_version": "1.5.0",
          "model_name": "HTMLModel",
          "state": {
            "_dom_classes": [],
            "_model_module": "@jupyter-widgets/controls",
            "_model_module_version": "1.5.0",
            "_model_name": "HTMLModel",
            "_view_count": null,
            "_view_module": "@jupyter-widgets/controls",
            "_view_module_version": "1.5.0",
            "_view_name": "HTMLView",
            "description": "",
            "description_tooltip": null,
            "layout": "IPY_MODEL_6d7443ce4442452b9cb309a551350186",
            "placeholder": "​",
            "style": "IPY_MODEL_2725dd7b5f514cc5b27e44de902341c0",
            "value": " 1/1 [00:00&lt;00:00,  7.46ba/s]"
          }
        },
        "6d7443ce4442452b9cb309a551350186": {
          "model_module": "@jupyter-widgets/base",
          "model_module_version": "1.2.0",
          "model_name": "LayoutModel",
          "state": {
            "_model_module": "@jupyter-widgets/base",
            "_model_module_version": "1.2.0",
            "_model_name": "LayoutModel",
            "_view_count": null,
            "_view_module": "@jupyter-widgets/base",
            "_view_module_version": "1.2.0",
            "_view_name": "LayoutView",
            "align_content": null,
            "align_items": null,
            "align_self": null,
            "border": null,
            "bottom": null,
            "display": null,
            "flex": null,
            "flex_flow": null,
            "grid_area": null,
            "grid_auto_columns": null,
            "grid_auto_flow": null,
            "grid_auto_rows": null,
            "grid_column": null,
            "grid_gap": null,
            "grid_row": null,
            "grid_template_areas": null,
            "grid_template_columns": null,
            "grid_template_rows": null,
            "height": null,
            "justify_content": null,
            "justify_items": null,
            "left": null,
            "margin": null,
            "max_height": null,
            "max_width": null,
            "min_height": null,
            "min_width": null,
            "object_fit": null,
            "object_position": null,
            "order": null,
            "overflow": null,
            "overflow_x": null,
            "overflow_y": null,
            "padding": null,
            "right": null,
            "top": null,
            "visibility": null,
            "width": null
          }
        },
        "72e1a7b6d40d46d2b5e9b3baf1714c57": {
          "model_module": "@jupyter-widgets/controls",
          "model_module_version": "1.5.0",
          "model_name": "FloatProgressModel",
          "state": {
            "_dom_classes": [],
            "_model_module": "@jupyter-widgets/controls",
            "_model_module_version": "1.5.0",
            "_model_name": "FloatProgressModel",
            "_view_count": null,
            "_view_module": "@jupyter-widgets/controls",
            "_view_module_version": "1.5.0",
            "_view_name": "ProgressView",
            "bar_style": "success",
            "description": "",
            "description_tooltip": null,
            "layout": "IPY_MODEL_93489c154c0a4acba9ea0d456a401282",
            "max": 1,
            "min": 0,
            "orientation": "horizontal",
            "style": "IPY_MODEL_c0d8b2d751db489bb307203e827763a3",
            "value": 1
          }
        },
        "76c19937e32c4e079885bf6bd32876d1": {
          "model_module": "@jupyter-widgets/base",
          "model_module_version": "1.2.0",
          "model_name": "LayoutModel",
          "state": {
            "_model_module": "@jupyter-widgets/base",
            "_model_module_version": "1.2.0",
            "_model_name": "LayoutModel",
            "_view_count": null,
            "_view_module": "@jupyter-widgets/base",
            "_view_module_version": "1.2.0",
            "_view_name": "LayoutView",
            "align_content": null,
            "align_items": null,
            "align_self": null,
            "border": null,
            "bottom": null,
            "display": null,
            "flex": null,
            "flex_flow": null,
            "grid_area": null,
            "grid_auto_columns": null,
            "grid_auto_flow": null,
            "grid_auto_rows": null,
            "grid_column": null,
            "grid_gap": null,
            "grid_row": null,
            "grid_template_areas": null,
            "grid_template_columns": null,
            "grid_template_rows": null,
            "height": null,
            "justify_content": null,
            "justify_items": null,
            "left": null,
            "margin": null,
            "max_height": null,
            "max_width": null,
            "min_height": null,
            "min_width": null,
            "object_fit": null,
            "object_position": null,
            "order": null,
            "overflow": null,
            "overflow_x": null,
            "overflow_y": null,
            "padding": null,
            "right": null,
            "top": null,
            "visibility": null,
            "width": null
          }
        },
        "8361d8e1607b4eeab16719b82c3802c3": {
          "model_module": "@jupyter-widgets/controls",
          "model_module_version": "1.5.0",
          "model_name": "HBoxModel",
          "state": {
            "_dom_classes": [],
            "_model_module": "@jupyter-widgets/controls",
            "_model_module_version": "1.5.0",
            "_model_name": "HBoxModel",
            "_view_count": null,
            "_view_module": "@jupyter-widgets/controls",
            "_view_module_version": "1.5.0",
            "_view_name": "HBoxView",
            "box_style": "",
            "children": [
              "IPY_MODEL_62994df1ec224cf4829735ae989f27b2",
              "IPY_MODEL_2c59de74ab124f5a985bd660868a033a",
              "IPY_MODEL_2958571ab0da4f03bd38c4eb5d96ef8b"
            ],
            "layout": "IPY_MODEL_f1d6d4f5a04d42de83155b349cf71d08"
          }
        },
        "89bda4baacab4373a3848f149af6bb92": {
          "model_module": "@jupyter-widgets/base",
          "model_module_version": "1.2.0",
          "model_name": "LayoutModel",
          "state": {
            "_model_module": "@jupyter-widgets/base",
            "_model_module_version": "1.2.0",
            "_model_name": "LayoutModel",
            "_view_count": null,
            "_view_module": "@jupyter-widgets/base",
            "_view_module_version": "1.2.0",
            "_view_name": "LayoutView",
            "align_content": null,
            "align_items": null,
            "align_self": null,
            "border": null,
            "bottom": null,
            "display": null,
            "flex": null,
            "flex_flow": null,
            "grid_area": null,
            "grid_auto_columns": null,
            "grid_auto_flow": null,
            "grid_auto_rows": null,
            "grid_column": null,
            "grid_gap": null,
            "grid_row": null,
            "grid_template_areas": null,
            "grid_template_columns": null,
            "grid_template_rows": null,
            "height": null,
            "justify_content": null,
            "justify_items": null,
            "left": null,
            "margin": null,
            "max_height": null,
            "max_width": null,
            "min_height": null,
            "min_width": null,
            "object_fit": null,
            "object_position": null,
            "order": null,
            "overflow": null,
            "overflow_x": null,
            "overflow_y": null,
            "padding": null,
            "right": null,
            "top": null,
            "visibility": null,
            "width": null
          }
        },
        "93489c154c0a4acba9ea0d456a401282": {
          "model_module": "@jupyter-widgets/base",
          "model_module_version": "1.2.0",
          "model_name": "LayoutModel",
          "state": {
            "_model_module": "@jupyter-widgets/base",
            "_model_module_version": "1.2.0",
            "_model_name": "LayoutModel",
            "_view_count": null,
            "_view_module": "@jupyter-widgets/base",
            "_view_module_version": "1.2.0",
            "_view_name": "LayoutView",
            "align_content": null,
            "align_items": null,
            "align_self": null,
            "border": null,
            "bottom": null,
            "display": null,
            "flex": null,
            "flex_flow": null,
            "grid_area": null,
            "grid_auto_columns": null,
            "grid_auto_flow": null,
            "grid_auto_rows": null,
            "grid_column": null,
            "grid_gap": null,
            "grid_row": null,
            "grid_template_areas": null,
            "grid_template_columns": null,
            "grid_template_rows": null,
            "height": null,
            "justify_content": null,
            "justify_items": null,
            "left": null,
            "margin": null,
            "max_height": null,
            "max_width": null,
            "min_height": null,
            "min_width": null,
            "object_fit": null,
            "object_position": null,
            "order": null,
            "overflow": null,
            "overflow_x": null,
            "overflow_y": null,
            "padding": null,
            "right": null,
            "top": null,
            "visibility": null,
            "width": null
          }
        },
        "9f04b88f1f7546cd81df1ad2357c41b3": {
          "model_module": "@jupyter-widgets/base",
          "model_module_version": "1.2.0",
          "model_name": "LayoutModel",
          "state": {
            "_model_module": "@jupyter-widgets/base",
            "_model_module_version": "1.2.0",
            "_model_name": "LayoutModel",
            "_view_count": null,
            "_view_module": "@jupyter-widgets/base",
            "_view_module_version": "1.2.0",
            "_view_name": "LayoutView",
            "align_content": null,
            "align_items": null,
            "align_self": null,
            "border": null,
            "bottom": null,
            "display": null,
            "flex": null,
            "flex_flow": null,
            "grid_area": null,
            "grid_auto_columns": null,
            "grid_auto_flow": null,
            "grid_auto_rows": null,
            "grid_column": null,
            "grid_gap": null,
            "grid_row": null,
            "grid_template_areas": null,
            "grid_template_columns": null,
            "grid_template_rows": null,
            "height": null,
            "justify_content": null,
            "justify_items": null,
            "left": null,
            "margin": null,
            "max_height": null,
            "max_width": null,
            "min_height": null,
            "min_width": null,
            "object_fit": null,
            "object_position": null,
            "order": null,
            "overflow": null,
            "overflow_x": null,
            "overflow_y": null,
            "padding": null,
            "right": null,
            "top": null,
            "visibility": null,
            "width": null
          }
        },
        "ac027dfb19ff494a911495aee5e46279": {
          "model_module": "@jupyter-widgets/controls",
          "model_module_version": "1.5.0",
          "model_name": "DescriptionStyleModel",
          "state": {
            "_model_module": "@jupyter-widgets/controls",
            "_model_module_version": "1.5.0",
            "_model_name": "DescriptionStyleModel",
            "_view_count": null,
            "_view_module": "@jupyter-widgets/base",
            "_view_module_version": "1.2.0",
            "_view_name": "StyleView",
            "description_width": ""
          }
        },
        "c0d8b2d751db489bb307203e827763a3": {
          "model_module": "@jupyter-widgets/controls",
          "model_module_version": "1.5.0",
          "model_name": "ProgressStyleModel",
          "state": {
            "_model_module": "@jupyter-widgets/controls",
            "_model_module_version": "1.5.0",
            "_model_name": "ProgressStyleModel",
            "_view_count": null,
            "_view_module": "@jupyter-widgets/base",
            "_view_module_version": "1.2.0",
            "_view_name": "StyleView",
            "bar_color": null,
            "description_width": ""
          }
        },
        "c16a1fd05b874cc18ee4786cc6c62d60": {
          "model_module": "@jupyter-widgets/controls",
          "model_module_version": "1.5.0",
          "model_name": "HTMLModel",
          "state": {
            "_dom_classes": [],
            "_model_module": "@jupyter-widgets/controls",
            "_model_module_version": "1.5.0",
            "_model_name": "HTMLModel",
            "_view_count": null,
            "_view_module": "@jupyter-widgets/controls",
            "_view_module_version": "1.5.0",
            "_view_name": "HTMLView",
            "description": "",
            "description_tooltip": null,
            "layout": "IPY_MODEL_89bda4baacab4373a3848f149af6bb92",
            "placeholder": "​",
            "style": "IPY_MODEL_ac027dfb19ff494a911495aee5e46279",
            "value": "100%"
          }
        },
        "d76c2693d3044a55a5e192fd908b2309": {
          "model_module": "@jupyter-widgets/controls",
          "model_module_version": "1.5.0",
          "model_name": "ProgressStyleModel",
          "state": {
            "_model_module": "@jupyter-widgets/controls",
            "_model_module_version": "1.5.0",
            "_model_name": "ProgressStyleModel",
            "_view_count": null,
            "_view_module": "@jupyter-widgets/base",
            "_view_module_version": "1.2.0",
            "_view_name": "StyleView",
            "bar_color": null,
            "description_width": ""
          }
        },
        "e900aaaa413448809d39357eed6fb3ea": {
          "model_module": "@jupyter-widgets/base",
          "model_module_version": "1.2.0",
          "model_name": "LayoutModel",
          "state": {
            "_model_module": "@jupyter-widgets/base",
            "_model_module_version": "1.2.0",
            "_model_name": "LayoutModel",
            "_view_count": null,
            "_view_module": "@jupyter-widgets/base",
            "_view_module_version": "1.2.0",
            "_view_name": "LayoutView",
            "align_content": null,
            "align_items": null,
            "align_self": null,
            "border": null,
            "bottom": null,
            "display": null,
            "flex": null,
            "flex_flow": null,
            "grid_area": null,
            "grid_auto_columns": null,
            "grid_auto_flow": null,
            "grid_auto_rows": null,
            "grid_column": null,
            "grid_gap": null,
            "grid_row": null,
            "grid_template_areas": null,
            "grid_template_columns": null,
            "grid_template_rows": null,
            "height": null,
            "justify_content": null,
            "justify_items": null,
            "left": null,
            "margin": null,
            "max_height": null,
            "max_width": null,
            "min_height": null,
            "min_width": null,
            "object_fit": null,
            "object_position": null,
            "order": null,
            "overflow": null,
            "overflow_x": null,
            "overflow_y": null,
            "padding": null,
            "right": null,
            "top": null,
            "visibility": null,
            "width": null
          }
        },
        "f1d6d4f5a04d42de83155b349cf71d08": {
          "model_module": "@jupyter-widgets/base",
          "model_module_version": "1.2.0",
          "model_name": "LayoutModel",
          "state": {
            "_model_module": "@jupyter-widgets/base",
            "_model_module_version": "1.2.0",
            "_model_name": "LayoutModel",
            "_view_count": null,
            "_view_module": "@jupyter-widgets/base",
            "_view_module_version": "1.2.0",
            "_view_name": "LayoutView",
            "align_content": null,
            "align_items": null,
            "align_self": null,
            "border": null,
            "bottom": null,
            "display": null,
            "flex": null,
            "flex_flow": null,
            "grid_area": null,
            "grid_auto_columns": null,
            "grid_auto_flow": null,
            "grid_auto_rows": null,
            "grid_column": null,
            "grid_gap": null,
            "grid_row": null,
            "grid_template_areas": null,
            "grid_template_columns": null,
            "grid_template_rows": null,
            "height": null,
            "justify_content": null,
            "justify_items": null,
            "left": null,
            "margin": null,
            "max_height": null,
            "max_width": null,
            "min_height": null,
            "min_width": null,
            "object_fit": null,
            "object_position": null,
            "order": null,
            "overflow": null,
            "overflow_x": null,
            "overflow_y": null,
            "padding": null,
            "right": null,
            "top": null,
            "visibility": null,
            "width": null
          }
        },
        "f1e51f82e7fe47e787f12210fe3ee383": {
          "model_module": "@jupyter-widgets/controls",
          "model_module_version": "1.5.0",
          "model_name": "DescriptionStyleModel",
          "state": {
            "_model_module": "@jupyter-widgets/controls",
            "_model_module_version": "1.5.0",
            "_model_name": "DescriptionStyleModel",
            "_view_count": null,
            "_view_module": "@jupyter-widgets/base",
            "_view_module_version": "1.2.0",
            "_view_name": "StyleView",
            "description_width": ""
          }
        },
        "f4f7a3ce54604bf1bee82acf1917fb3b": {
          "model_module": "@jupyter-widgets/base",
          "model_module_version": "1.2.0",
          "model_name": "LayoutModel",
          "state": {
            "_model_module": "@jupyter-widgets/base",
            "_model_module_version": "1.2.0",
            "_model_name": "LayoutModel",
            "_view_count": null,
            "_view_module": "@jupyter-widgets/base",
            "_view_module_version": "1.2.0",
            "_view_name": "LayoutView",
            "align_content": null,
            "align_items": null,
            "align_self": null,
            "border": null,
            "bottom": null,
            "display": null,
            "flex": null,
            "flex_flow": null,
            "grid_area": null,
            "grid_auto_columns": null,
            "grid_auto_flow": null,
            "grid_auto_rows": null,
            "grid_column": null,
            "grid_gap": null,
            "grid_row": null,
            "grid_template_areas": null,
            "grid_template_columns": null,
            "grid_template_rows": null,
            "height": null,
            "justify_content": null,
            "justify_items": null,
            "left": null,
            "margin": null,
            "max_height": null,
            "max_width": null,
            "min_height": null,
            "min_width": null,
            "object_fit": null,
            "object_position": null,
            "order": null,
            "overflow": null,
            "overflow_x": null,
            "overflow_y": null,
            "padding": null,
            "right": null,
            "top": null,
            "visibility": null,
            "width": null
          }
        },
        "f9b6627e649e4888bbce90c06aa11c49": {
          "model_module": "@jupyter-widgets/controls",
          "model_module_version": "1.5.0",
          "model_name": "HBoxModel",
          "state": {
            "_dom_classes": [],
            "_model_module": "@jupyter-widgets/controls",
            "_model_module_version": "1.5.0",
            "_model_name": "HBoxModel",
            "_view_count": null,
            "_view_module": "@jupyter-widgets/controls",
            "_view_module_version": "1.5.0",
            "_view_name": "HBoxView",
            "box_style": "",
            "children": [
              "IPY_MODEL_c16a1fd05b874cc18ee4786cc6c62d60",
              "IPY_MODEL_72e1a7b6d40d46d2b5e9b3baf1714c57",
              "IPY_MODEL_682985265a3c4312860b617aa38460a6"
            ],
            "layout": "IPY_MODEL_9f04b88f1f7546cd81df1ad2357c41b3"
          }
        }
      }
    }
  },
  "nbformat": 4,
  "nbformat_minor": 0
}
